{
 "cells": [
  {
   "cell_type": "markdown",
   "metadata": {},
   "source": [
    "\n",
    "(1) _Describe your ideal job in one or two paragraphs as though you're talking with an industry professional. They're familiar with the business and with the culture, they know the jargon and the buzzwords. Focus on the skills, tools, and / or industry you hope to deeply specialize in._\n",
    "\n",
    "\n",
    "My background is in experimental linguistics, I study user's mental models through quantitative methods. By mental models I mean what they think, what they do and why they do that, what influencing factors are behind their decision. Traditional qualitative methods in user research understands users' action and gather insights to understand the user. Quantitative methods, on the other hand, could be useful in predicting users' behavior and hence would help decision making for products and user experience. I'd like to leverage my background and skill sets to build predictive models around user engagement and product usage so that product developers ability to incorporate anticipatory designs into their products to keep users engaged.\n",
    "\n",
    "I am passionate about  applying natural language processing techniques and Machine Learning for addressing business questions surrounding user experience. For example, a company may have textual responses from qualitative research projects (e.g., intercept, NPS or customer feedback surveys), and yet they do not know how to build predictive models to forecast product success, or product lifetime. Using NLP and machine learning I can combine text mining with predictive modeling to learn from historical data, to help businesses make more informed decisions.\n",
    " \n",
    " \n",
    " \n",
    "(2) _Describe your ideal job in one or two paragraphs as though you're talking with a non-technical family member or friend. Avoid jargon and keep things simple while remaining specific. If you went deep in your specialization above, emphasize here the breadth of skills and work._\n",
    "\n",
    "\n",
    "My background is in experimental linguistics, I help businesses understand what people think, what they do and why they do what they do. The answers to these questions are very valuable as businesses like to understand who their users are, what they think about their product, and why they choose/reject their products. I leverage my background and skill sets to answer these questions, and recommend approaches for the business to reach out to their users. \n",
    "\n",
    "Lots of businesses these days have massive amounts of data on their users but they do not know how to extract value from it. They often don’t even know what questions to ask, much less how to utilize it to improve business opportunities. A business may have textual responses from surveys, and yet they do not know how to build predictive models to forecast product success, or product lifetime. A Data Scientist with a NLP background will be able to combine text mining with predictive modeling to learn from historical data, to help businesses better understand its customers and make more informed decisions.\n",
    "\n",
    "\n",
    "\n",
    "(3) _Synthesize the two exercises above into a short aspirational \"professional summary\" that might be appropriate on your LinkedIn profile, resume, or portfolio in the future._\n",
    "\n",
    "\n",
    "I have 10 years of experience as a mixed methods researcher in linguistics. Using X techniques I designed and implemented experiments to understand the users mental model for a product. This provides actionable insights for businesses as they can better understand their users better.\n",
    "\n",
    "**Skills:** participant recruitment, crowdsourcing, surveys, data analysis with advanced knowledge of statistical and analytical modeling\n",
    "\n",
    "**Data Manipulation:** Pandas, NumPy, Seaborn, SQL\n",
    "\n",
    "**Programming languages:** Python, R, C++, SQL\n",
    "\n",
    "**Competencies:** Data Science, machine learning, cloud computing, Hadoop, network protocols. SKLearn, NLP, Language Modeling\n",
    "\n",
    "If you have a project I can help with, please get in touch.\n",
    "\n",
    "\n"
   ]
  },
  {
   "cell_type": "code",
   "execution_count": null,
   "metadata": {},
   "outputs": [],
   "source": []
  }
 ],
 "metadata": {
  "kernelspec": {
   "display_name": "Python 3",
   "language": "python",
   "name": "python3"
  },
  "language_info": {
   "codemirror_mode": {
    "name": "ipython",
    "version": 3
   },
   "file_extension": ".py",
   "mimetype": "text/x-python",
   "name": "python",
   "nbconvert_exporter": "python",
   "pygments_lexer": "ipython3",
   "version": "3.6.5"
  }
 },
 "nbformat": 4,
 "nbformat_minor": 2
}
