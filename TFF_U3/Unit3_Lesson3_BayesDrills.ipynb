{
 "cells": [
  {
   "cell_type": "markdown",
   "metadata": {},
   "source": [
    "Unit 3 Lesson 2 Project 6: Drills - Exercises in Bayes' Rule\n",
    "A diagnostic test has a 98% probability of giving a positive result when applied to a person suffering from Thripshaw's Disease, and 10% probability of giving a (false) positive when applied to a non-sufferer. It is estimated that 0.5 % of the population are sufferers.\n",
    "\n",
    "P(positive|sufferer) = .98 P(positive|non-sufferer) = .1 P(sufferer) = 0.005\n",
    "\n",
    "The test is now administered to someone whose disease status is unknown. Calculate the probability that the test will:\n",
    "\n",
    "Be positive, i.e., True positive and False positive P(positive|sufferer) and P(positive|non-sufferer) .98 .005 + .1 .995 = .0049 + .0995 = b\n",
    "\n",
    "Correctly diagnoses that a person has the disease, i.e., True positive P(true sufferer) = .98\n",
    "\n",
    "Correctly identify a non-sufferer, i.e., True negative P(true non-sufferer) = .9\n",
    "\n",
    "Misclassify, i.e., False positive and False negative\n",
    "\n",
    "0.005 .02 + .995 .1 = .00010 + .0995 =0.996"
   ]
  }
 ],
 "metadata": {
  "kernelspec": {
   "display_name": "Python 3",
   "language": "python",
   "name": "python3"
  },
  "language_info": {
   "codemirror_mode": {
    "name": "ipython",
    "version": 3
   },
   "file_extension": ".py",
   "mimetype": "text/x-python",
   "name": "python",
   "nbconvert_exporter": "python",
   "pygments_lexer": "ipython3",
   "version": "3.6.5"
  }
 },
 "nbformat": 4,
 "nbformat_minor": 2
}
