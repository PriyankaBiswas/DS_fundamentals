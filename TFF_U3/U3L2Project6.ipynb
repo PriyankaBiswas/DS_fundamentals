{
 "cells": [
  {
   "cell_type": "markdown",
   "metadata": {},
   "source": [
    "# Unit 3 Lesson 2 Assignment 6 Drills - Exercises in Bayes' Rules\n"
   ]
  },
  {
   "cell_type": "markdown",
   "metadata": {},
   "source": [
    "#notes from Koyuki \n",
    "\n",
    "pyspark at the backend, SQL --ssis, flusk\n",
    "jungle at the frontend \n",
    "learn how to create APIs - for the front end makes you a good candidate\n",
    "learn keras, tensorflow\n",
    "scala\n",
    "\n",
    "\n"
   ]
  },
  {
   "cell_type": "markdown",
   "metadata": {},
   "source": [
    "P(positive and sufferer) = .98\n",
    "P(positive non-sufferer)= .1\n",
    "0.5% of the population are sufferers. \n",
    "\n",
    "P(positive for sufferer and non sufferer) =     #True positive and False positive \n",
    "P(true sufferer) =   #True positive\n",
    "P(true non-sufferer) =   #True negative\n",
    "P(misclassify) =      #False positive and False negative \n",
    "\n",
    "\n"
   ]
  },
  {
   "cell_type": "code",
   "execution_count": null,
   "metadata": {},
   "outputs": [],
   "source": []
  },
  {
   "cell_type": "markdown",
   "metadata": {},
   "source": [
    "## Unit 3 Lesson 2 Project 7 Drills on Evaluating Data Sources \n",
    "\n",
    "In each of the scenarios, find possible shortcomings of the theoretical or actual data sources to answer the given question. What could be done to either adjust the analysis or reframe the question so that you can answer it accurately?\n",
    "\n",
    "\n",
    "(1) Data Source: Amsterdam availability data scraped from AirBnB on December 24th. Question: What are the popular neighborhoods in Amsterdam?\n",
    "\n",
    "Answer: First of all, the availability data could look very different depending on the continent. In USA, Americans spend their time at home with families, whereas, non-Americans (dare I say, immigrants) take the oppotunity to explore popular landmarks during this time. \n",
    "\n",
    "For Europe, 24th December could see similar trends. However, considering the fact that Amsterdam is a popular tourist destination, it is likely that the data for that day could give the impression that all neighborhoods in Amsterdam is popular. \n",
    "\n",
    "This question could be framed differently if there is similar data available from a different date. Q: AirBnb's growth of business prior to Christmas etc. \n",
    "\n",
    "\n",
    "\n",
    "(2) Data Source: Mental health services use on September 12, 2001 in San Francisco, CA and New York City, NY. Question: How do patterns of mental health service use vary between cities?\n",
    "\n",
    "\n",
    "Answer: There will be a huge upsurge in mental health services following 9/11 in New York city. Therefore, the posed question will definitely give a wrong estimation. \n",
    "\n",
    "How to frame a better question: not sure how to frame a relevant question without additional data from a different date. \n",
    "\n",
    "\n",
    "\n",
    "(3) Data Source: Armenian Pub Survey. Question: What are the most common reasons Armenians visit local pubs?\n",
    "\n",
    "Answer: Is this a question hovering on how the survey has been phrased? Looking at the column metrics for the data, I see the two most relevant column names (Prim_Imp) and (Sec_Imp) ask the questions: \"Which feature is of primary/secondary importance for you?\" This refers to the feature of the pub, and does not reflect the pub-goer's reasons. So, I guess we can not answer the question. \n",
    "\n",
    "Alternative question: What are the most profitable features for Armenian pubs? "
   ]
  },
  {
   "cell_type": "code",
   "execution_count": null,
   "metadata": {},
   "outputs": [],
   "source": []
  },
  {
   "cell_type": "markdown",
   "metadata": {},
   "source": [
    "Unit 3 Lesson 2 Project 8 - Challenge - Beware of Monty Hall\n",
    "\n",
    "Switching would be a good option after the host has shown one of the unselected doors as the chance of winning becomes 2/3 from 1/3 if one decides to stick. \n",
    "\n",
    "To apply Bayes' Rule: \n",
    "P(winning|one_door_shown) = P(one_door_shown|winning) * P(winning)/P(one_door_shown)\n",
    "\n",
    "\n",
    "= "
   ]
  },
  {
   "cell_type": "code",
   "execution_count": null,
   "metadata": {},
   "outputs": [],
   "source": []
  },
  {
   "cell_type": "code",
   "execution_count": null,
   "metadata": {},
   "outputs": [],
   "source": []
  },
  {
   "cell_type": "code",
   "execution_count": null,
   "metadata": {},
   "outputs": [],
   "source": []
  }
 ],
 "metadata": {
  "kernelspec": {
   "display_name": "Python 3",
   "language": "python",
   "name": "python3"
  },
  "language_info": {
   "codemirror_mode": {
    "name": "ipython",
    "version": 3
   },
   "file_extension": ".py",
   "mimetype": "text/x-python",
   "name": "python",
   "nbconvert_exporter": "python",
   "pygments_lexer": "ipython3",
   "version": "3.6.5"
  }
 },
 "nbformat": 4,
 "nbformat_minor": 2
}
