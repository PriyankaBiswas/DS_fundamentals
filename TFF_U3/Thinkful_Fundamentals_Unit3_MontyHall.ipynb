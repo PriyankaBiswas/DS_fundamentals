{
 "cells": [
  {
   "cell_type": "markdown",
   "metadata": {},
   "source": [
    "Unit 3 Lesson 2 Project 8: Challenge - Beware of Monty Hall\n",
    "Switching would be a good option after the host has shown one of the unselected doors as the chance of winning increases from 1/3 (if one decides to stick) to 2/3 (if one decides to switch).\n",
    "\n",
    "To apply Bayes' Rule: P(winning|chosen_door) = P(chosen_door|winning) * P(winning)/P(chosen_door)\n",
    "P(not_winning|chosen_door) = 1-P(winning|chosen_door)\n",
    "\n",
    "P(chosen_door|winning) =\n",
    "Events 1: Car behind door = A,B,C = 1/3\n",
    "\n",
    "Choose door A. Car in A.\n",
    "Event 2: \n",
    "P(monty opening door B or C) = 1/2\n",
    "\n",
    "Choose door A. Car in B. Monty never chooses doors that you select or the winning door.\n",
    "Event 2: \n",
    "\n",
    "P(monty opening door B) = 0\n",
    "P(monty opening door C) = 1\n",
    "\n",
    "Choose door A. Car in C.\n",
    "Event 2: \n",
    "P(monty opening door B) = 1\n",
    "P(monty opening door C) = 0\n",
    "\n",
    "Conditional probability now. What are the probabilities of winning \n",
    "P(Car@A|Open B) = P(open B|car@A)*P(car@A)/P(openB) = (1/2*1/3)/(1/3*1/2 + 1/3 * 0 + 1/3 * 1) = 1/6 / (1/6+0+1/3) = 1/6 * 6/3 = 1/3\n",
    "\n",
    "What are the probabilities of winning if switched to door C\n",
    "P(Car@C|Open B) = P(open B|car@C)*P(car@C)/P(openB) = (1*1/3)/(1/3*1 + 1/3 * 0 + 1/3 * 1/2) = 1/3 / (1/3+0+1/6) = 1/3 * 6/3 = 2/3 \n",
    "\n",
    "<== switching is better\n",
    "\n"
   ]
  }
 ],
 "metadata": {
  "kernelspec": {
   "display_name": "Python 3",
   "language": "python",
   "name": "python3"
  },
  "language_info": {
   "codemirror_mode": {
    "name": "ipython",
    "version": 3
   },
   "file_extension": ".py",
   "mimetype": "text/x-python",
   "name": "python",
   "nbconvert_exporter": "python",
   "pygments_lexer": "ipython3",
   "version": "3.6.5"
  }
 },
 "nbformat": 4,
 "nbformat_minor": 2
}
