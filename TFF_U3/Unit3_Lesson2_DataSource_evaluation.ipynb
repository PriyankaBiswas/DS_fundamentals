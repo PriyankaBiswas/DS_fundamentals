{
 "cells": [
  {
   "cell_type": "markdown",
   "metadata": {},
   "source": [
    "Unit 3 Lesson 2 Project 7: Drills on Evaluating Data Sources\n",
    "In each of the scenarios, find possible shortcomings of the theoretical or actual data sources to answer the given question. What could be done to either adjust the analysis or reframe the question so that you can answer it accurately?\n",
    "\n",
    "(1) Data Source: Amsterdam availability data scraped from AirBnB on December 24th. Question: What are the popular neighborhoods in Amsterdam?\n",
    "\n",
    "Answer: First of all, the availability data could look very different depending on the continent. In USA, Americans spend their time at home with families, whereas, non-Americans (dare I say, immigrants) take this oppotunity to explore popular landmarks.\n",
    "\n",
    "For Europe, 24th December could see similar trends. However, considering the fact that Amsterdam is a popular tourist destination, it is likely that the data for that day will give the impression that all neighborhoods in Amsterdam is popular because every Airbnb availability will be booked or overbooked. Another option could be that Airbnb hosts may not prefer to rent their places to guests on Christmas Eve.\n",
    "\n",
    "This question could be framed differently if there are similar data available from a different date. For example, one may ask, how does AirBnb's business benefit from major holidays?\n",
    "\n",
    "(2) Data Source: Mental health services use on September 12, 2001 in San Francisco, CA and New York City, NY. Question: How do patterns of mental health service use vary between cities?\n",
    "\n",
    "Answer: There will be a huge upsurge in mental health services following 9/11 in New York city. Therefore, the posed question will definitely give a wrong estimation.\n",
    "\n",
    "How to frame a better question: How much growth does mental health services see after a major tragic event?\n",
    "\n",
    "(3) Data Source: Armenian Pub Survey. Question: What are the most common reasons Armenians visit local pubs?\n",
    "\n",
    "Answer: Is this a question hovering on how the survey has been phrased? Looking at the column metrics for the data, I see the two most relevant columns (Prim_Imp) and (Sec_Imp) ask the questions: \"Which feature is of primary/secondary importance for you?\" These refer to the features of the pub, and does not reflect the pub-goer's reasons.\n",
    "\n",
    "Alternative question: What are some of the profitable features of pubs that should be highlighted in advertisements? According to the column metrics of the data, pub-goers preferred ambiance/environment and the selection of music over menu or pricing, so a pub should advertisement those to attract more customers to their pub."
   ]
  }
 ],
 "metadata": {
  "kernelspec": {
   "display_name": "Python 3",
   "language": "python",
   "name": "python3"
  },
  "language_info": {
   "codemirror_mode": {
    "name": "ipython",
    "version": 3
   },
   "file_extension": ".py",
   "mimetype": "text/x-python",
   "name": "python",
   "nbconvert_exporter": "python",
   "pygments_lexer": "ipython3",
   "version": "3.6.5"
  }
 },
 "nbformat": 4,
 "nbformat_minor": 2
}
