{
 "cells": [
  {
   "cell_type": "markdown",
   "metadata": {},
   "source": [
    "Unit 3 Lesson 2 Project 4: Drills on probability\n",
    "Q1: Calculate the probability of flipping a balanced coin four times and getting each pattern: HTTH, HHHH and TTHH.\n",
    "Answer: These are independent events. So they all have the same probability.\n",
    "\n",
    "P(HTTH) = P (HHHH) = P(TTHH) = 1/2 1/2 1/2 * 1/2 = 1/16\n",
    "\n",
    "Q2: If a list of people has 24 women and 21 men, then the probability of choosing a man from the list is 21/45. What is the probability of not choosing a man?\n",
    "Answer: P(not choosing a man) = 1-21/45 = 24/45\n",
    "\n",
    "Q3: The probability that Bernice will travel by plane sometime in the next year is 10%. The probability of a plane crash at any time is .005%. What is the probability that Bernice will be in a plane crash sometime in the next year?\n",
    "Answer: P(Bernice in a plane crash) = .01 * .005 = .0005\n",
    "\n",
    "Q4: A data scientist wants to study the behavior of users on the company website. Each time a user clicks on a link on the website, there is a 5% chance that the user will be asked to complete a short survey about their behavior on the website. The data scientist uses the survey data to conclude that, on average, users spend 15 minutes surfing the company website before moving on to other things. What is wrong with this conclusion?\n",
    "Answer: First of all, the sample data from the survey does not represent the population. There is only 5% chance that a user will be asked to enter a survey if they click a link. There is a possibility that a user does not click on any link and yet spend some time on the website just scrolling around, and even if a user clicks a link, there is only 5% chance that they will be asked to participate in a survey. Therefore, such a conclusion is not representative of the average user. Secondly, the longer the user remains on the website, there is more possibility that they would get a link for the survey. Therefore, the survey data may have more data points from such users and that would bias their self-reporting of how much time they spend on the website.\n",
    "\n",
    "A better alternative will be to keep track of each user from the time they arrive at the website until they leave."
   ]
  }
 ],
 "metadata": {
  "kernelspec": {
   "display_name": "Python 3",
   "language": "python",
   "name": "python3"
  },
  "language_info": {
   "codemirror_mode": {
    "name": "ipython",
    "version": 3
   },
   "file_extension": ".py",
   "mimetype": "text/x-python",
   "name": "python",
   "nbconvert_exporter": "python",
   "pygments_lexer": "ipython3",
   "version": "3.6.5"
  }
 },
 "nbformat": 4,
 "nbformat_minor": 2
}
